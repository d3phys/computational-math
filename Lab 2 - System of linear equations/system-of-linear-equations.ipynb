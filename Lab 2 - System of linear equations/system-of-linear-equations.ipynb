{
 "cells": [
  {
   "cell_type": "markdown",
   "id": "7cb2f1bd",
   "metadata": {},
   "source": [
    "# Решение СЛАУ"
   ]
  },
  {
   "cell_type": "code",
   "execution_count": 104,
   "id": "bf231947",
   "metadata": {},
   "outputs": [],
   "source": [
    "import numpy as np\n",
    "from numpy import *\n",
    "import matplotlib.pyplot as plt\n",
    "from math import *\n",
    "import sympy"
   ]
  },
  {
   "cell_type": "markdown",
   "id": "553a72ed",
   "metadata": {},
   "source": [
    "## Входные данные\n",
    "\n",
    "\n",
    "<div>\n",
    "<img src=\"system.png\" width=\"600\"/>\n",
    "</div>"
   ]
  },
  {
   "cell_type": "code",
   "execution_count": 105,
   "id": "1e8731f4",
   "metadata": {},
   "outputs": [],
   "source": [
    "def cell(i, j):\n",
    "    if i == j:\n",
    "        return 10\n",
    "    elif j > (i + 1):\n",
    "        return 0\n",
    "    else:\n",
    "        return 1 / (i + 1)\n",
    "    \n",
    "def fv(i):\n",
    "    return i + 1\n",
    "\n",
    "n = 100"
   ]
  },
  {
   "cell_type": "code",
   "execution_count": 106,
   "id": "ff2a30ba",
   "metadata": {
    "scrolled": false
   },
   "outputs": [
    {
     "data": {
      "text/plain": [
       "array([[10.        ,  1.        ,  0.        , ...,  0.        ,\n",
       "         0.        ,  0.        ],\n",
       "       [ 0.5       , 10.        ,  0.5       , ...,  0.        ,\n",
       "         0.        ,  0.        ],\n",
       "       [ 0.33333333,  0.33333333, 10.        , ...,  0.        ,\n",
       "         0.        ,  0.        ],\n",
       "       ...,\n",
       "       [ 0.01020408,  0.01020408,  0.01020408, ..., 10.        ,\n",
       "         0.01020408,  0.        ],\n",
       "       [ 0.01010101,  0.01010101,  0.01010101, ...,  0.01010101,\n",
       "        10.        ,  0.01010101],\n",
       "       [ 0.01      ,  0.01      ,  0.01      , ...,  0.01      ,\n",
       "         0.01      , 10.        ]])"
      ]
     },
     "execution_count": 106,
     "metadata": {},
     "output_type": "execute_result"
    }
   ],
   "source": [
    "matrix = np.fromfunction(np.vectorize(cell, otypes=[float]), (n, n), dtype=float)\n",
    "matrix"
   ]
  },
  {
   "cell_type": "code",
   "execution_count": 107,
   "id": "d4673c10",
   "metadata": {
    "scrolled": true
   },
   "outputs": [
    {
     "data": {
      "text/plain": [
       "array([  1.,   2.,   3.,   4.,   5.,   6.,   7.,   8.,   9.,  10.,  11.,\n",
       "        12.,  13.,  14.,  15.,  16.,  17.,  18.,  19.,  20.,  21.,  22.,\n",
       "        23.,  24.,  25.,  26.,  27.,  28.,  29.,  30.,  31.,  32.,  33.,\n",
       "        34.,  35.,  36.,  37.,  38.,  39.,  40.,  41.,  42.,  43.,  44.,\n",
       "        45.,  46.,  47.,  48.,  49.,  50.,  51.,  52.,  53.,  54.,  55.,\n",
       "        56.,  57.,  58.,  59.,  60.,  61.,  62.,  63.,  64.,  65.,  66.,\n",
       "        67.,  68.,  69.,  70.,  71.,  72.,  73.,  74.,  75.,  76.,  77.,\n",
       "        78.,  79.,  80.,  81.,  82.,  83.,  84.,  85.,  86.,  87.,  88.,\n",
       "        89.,  90.,  91.,  92.,  93.,  94.,  95.,  96.,  97.,  98.,  99.,\n",
       "       100.])"
      ]
     },
     "execution_count": 107,
     "metadata": {},
     "output_type": "execute_result"
    }
   ],
   "source": [
    "f = np.fromfunction(np.vectorize(fv, otypes=[float]), (n,), dtype=float)\n",
    "f"
   ]
  },
  {
   "cell_type": "markdown",
   "id": "639fb17d",
   "metadata": {},
   "source": [
    "## Прямые методы"
   ]
  },
  {
   "cell_type": "markdown",
   "id": "f482c3fb",
   "metadata": {},
   "source": [
    "### Определим норму и $\\varepsilon$ для прямых методов"
   ]
  },
  {
   "cell_type": "code",
   "execution_count": 108,
   "id": "4c9af15d",
   "metadata": {},
   "outputs": [],
   "source": [
    "epsilon = 1e-6\n",
    "\n",
    "# \"Кубическая\" халявная норма вектора :)\n",
    "def norm(x):\n",
    "    return np.max(abs(x))"
   ]
  },
  {
   "cell_type": "markdown",
   "id": "c5aaaa0b",
   "metadata": {},
   "source": [
    "### Метод Гаусса с выбором главного элемента"
   ]
  },
  {
   "cell_type": "code",
   "execution_count": 109,
   "id": "ce311f94",
   "metadata": {},
   "outputs": [],
   "source": [
    "def gauss(matrix, f):\n",
    "\n",
    "    # Соберем всё в одну матрицу M = [A|f]\n",
    "    M = np.hstack((matrix, f.reshape(-1, 1)))   \n",
    "\n",
    "    # Прямой ход\n",
    "    for i in range(len(matrix)):\n",
    "\n",
    "        # Главный элемент отправляется на соответствующую строку\n",
    "        pivot = np.argmax(np.abs(matrix[:,i]))\n",
    "        M[[i, pivot]] = M[[pivot, i]] \n",
    "\n",
    "        div = M[i][i]\n",
    "\n",
    "        # \"Нормируем\" строку\n",
    "        row = M[i]\n",
    "        row /= div\n",
    "\n",
    "        # Зануляем всю колонку под нами\n",
    "        for down in M[i + 1:]:\n",
    "            down -= down[i] * row\n",
    "\n",
    "    # Обратный ход\n",
    "    for i in range(len(matrix) - 1, 0, -1):\n",
    "        row = M[i]\n",
    "        for up in reversed(M[:i]):\n",
    "            up -= up[i] * row\n",
    "\n",
    "    # Получена матрица вида M = [E|x]. Вытаскиваем x\n",
    "    return M[:,-1]"
   ]
  },
  {
   "cell_type": "code",
   "execution_count": 110,
   "id": "2aa52688",
   "metadata": {
    "scrolled": false
   },
   "outputs": [],
   "source": [
    "# TODO: Проверить условие диагонального преобладания\n",
    "x = gauss(matrix, f)\n",
    "\n",
    "diff = np.matmul(matrix, x.T) - f\n",
    "assert norm(diff) < epsilon"
   ]
  },
  {
   "cell_type": "markdown",
   "id": "0632eea3",
   "metadata": {},
   "source": [
    "### LU-разложение"
   ]
  },
  {
   "cell_type": "code",
   "execution_count": 111,
   "id": "f5b5c3eb",
   "metadata": {
    "scrolled": true
   },
   "outputs": [],
   "source": [
    "def decompose(A):\n",
    "    U = A.copy()\n",
    "    L = np.eye(n, dtype=np.double)\n",
    "    \n",
    "    for i in range(len(A)):\n",
    "        \n",
    "        # Чистим столбец от диагонали вниз.\n",
    "        # Затем делаем обратное преобразование. Awesome!\n",
    "        factor = U[i+1:, i] / U[i, i]\n",
    "        L[i+1:, i] = factor\n",
    "        U[i+1:] -= factor.reshape(-1, 1) * U[i]\n",
    "       \n",
    "    # TODO: Это не норма для матриц, но это assert-ы гыы :)\n",
    "    assert (U - np.triu(U)).max() < epsilon\n",
    "    assert (L - np.tril(L)).max() < epsilon\n",
    "    assert (np.matmul(L, U) - matrix).max() < epsilon\n",
    "    \n",
    "    return L, U\n",
    "\n",
    "def lu(matrix, f):        \n",
    "    L, U = decompose(matrix)\n",
    "\n",
    "    # Система Lv = f\n",
    "    v = np.zeros(len(f))\n",
    "\n",
    "    for i in range(len(f)):    \n",
    "        v[i] = f[i] - np.matmul(L[i], v) \n",
    "\n",
    "    # Система Uu = v\n",
    "    u = np.zeros(len(v))\n",
    "\n",
    "    for i in range(len(v) - 1, -1, -1):    \n",
    "        u[i] = (v[i] - np.matmul(U[i], u)) / U[i][i]\n",
    "    \n",
    "    return u"
   ]
  },
  {
   "cell_type": "code",
   "execution_count": 112,
   "id": "b0cbe37c",
   "metadata": {},
   "outputs": [],
   "source": [
    "# TODO: Можно проверить миноры\n",
    "x = lu(matrix, f)\n",
    "\n",
    "diff = np.matmul(matrix, x.T) - f\n",
    "assert norm(diff) < epsilon"
   ]
  },
  {
   "cell_type": "markdown",
   "id": "d2125b9e",
   "metadata": {},
   "source": [
    "## Итерационные методы"
   ]
  },
  {
   "cell_type": "code",
   "execution_count": 113,
   "id": "0fbf4209",
   "metadata": {},
   "outputs": [],
   "source": [
    "# Метод простой итерации с вычислением невязки \n",
    "# (обозначения см. Петров Лобанов курс лекций)\n",
    "def fpi(B, F, n_it, matrix, f):\n",
    "    u = np.zeros(len(F))\n",
    "    diffs = np.zeros(n_it)\n",
    "    for i in range(n_it):\n",
    "        u = np.matmul(B, u) + F\n",
    "        diffs[i] = norm(f - np.matmul(matrix, u))\n",
    "    return u, diffs\n",
    "\n",
    "# LDU-разложение\n",
    "def ldu(matrix):\n",
    "    L = matrix - np.triu(matrix)\n",
    "    D = np.triu(matrix) + np.tril(matrix) - matrix\n",
    "    U = matrix - np.tril(matrix)\n",
    "    # Здесь можно на точное равенство проверить\n",
    "    assert abs(L + D + U - matrix).max() == 0\n",
    "    return  L, D, U"
   ]
  },
  {
   "cell_type": "markdown",
   "id": "1757bac6",
   "metadata": {},
   "source": [
    "### Метод Якоби"
   ]
  },
  {
   "cell_type": "code",
   "execution_count": 114,
   "id": "2c6d1a2a",
   "metadata": {},
   "outputs": [
    {
     "data": {
      "text/plain": [
       "<matplotlib.collections.PathCollection at 0x2af7de81c60>"
      ]
     },
     "execution_count": 114,
     "metadata": {},
     "output_type": "execute_result"
    },
    {
     "data": {
      "image/png": "[encoded data removed]",
      "text/plain": [
       "<Figure size 432x288 with 1 Axes>"
      ]
     },
     "metadata": {
      "needs_background": "light"
     },
     "output_type": "display_data"
    }
   ],
   "source": [
    "L, D, U = ldu(matrix)\n",
    "\n",
    "B = -np.matmul(np.linalg.inv(D), (L + U))\n",
    "F =  np.matmul(np.linalg.inv(D), f)\n",
    "\n",
    "x, diffs = fpi(B, F, 20, matrix, f)\n",
    "plt.scatter(range(len(diffs)), diffs)"
   ]
  },
  {
   "cell_type": "markdown",
   "id": "bd73f247",
   "metadata": {},
   "source": [
    "## Метод Зейделя"
   ]
  },
  {
   "cell_type": "code",
   "execution_count": 115,
   "id": "4dd43846",
   "metadata": {
    "scrolled": false
   },
   "outputs": [
    {
     "data": {
      "text/plain": [
       "<matplotlib.collections.PathCollection at 0x2af7de4d5d0>"
      ]
     },
     "execution_count": 115,
     "metadata": {},
     "output_type": "execute_result"
    },
    {
     "data": {
      "image/png": "[encoded data removed]",
      "text/plain": [
       "<Figure size 432x288 with 1 Axes>"
      ]
     },
     "metadata": {
      "needs_background": "light"
     },
     "output_type": "display_data"
    }
   ],
   "source": [
    "L, D, U = ldu(matrix)\n",
    "\n",
    "B = -np.matmul(np.linalg.inv(L + D), U)\n",
    "F =  np.matmul(np.linalg.inv(L + D), f)\n",
    "\n",
    "x, diffs = fpi(B, F, 20, matrix, f)\n",
    "plt.scatter(range(len(diffs)), diffs)"
   ]
  },
  {
   "cell_type": "markdown",
   "id": "1a1e4a39",
   "metadata": {},
   "source": [
    "### Метод верхней релаксации"
   ]
  },
  {
   "cell_type": "code",
   "execution_count": 116,
   "id": "685f9d99",
   "metadata": {},
   "outputs": [],
   "source": [
    "def sor(w):\n",
    "    L, D, U = ldu(matrix)\n",
    "\n",
    "    B = -np.matmul(np.linalg.inv(D + w * L), (w - 1) * D + w * L)\n",
    "    F =  np.matmul(np.linalg.inv(D + w * L), f) * w\n",
    "\n",
    "    x, diffs = fpi(B, F, 30, matrix, f)\n",
    "    plt.scatter(range(len(diffs)), diffs)"
   ]
  },
  {
   "cell_type": "markdown",
   "id": "dec5dd8c",
   "metadata": {},
   "source": [
    "#### Графики невязки от параметра релаксации ниже "
   ]
  },
  {
   "cell_type": "code",
   "execution_count": 117,
   "id": "6ecde6ab",
   "metadata": {
    "scrolled": true
   },
   "outputs": [
    {
     "data": {
      "image/png": "[encoded data removed]",
      "text/plain": [
       "<Figure size 432x288 with 1 Axes>"
      ]
     },
     "metadata": {
      "needs_background": "light"
     },
     "output_type": "display_data"
    }
   ],
   "source": [
    "sor(w = 1.2)"
   ]
  },
  {
   "cell_type": "code",
   "execution_count": 118,
   "id": "b6554bf4",
   "metadata": {},
   "outputs": [
    {
     "data": {
      "image/png": "[encoded data removed]",
      "text/plain": [
       "<Figure size 432x288 with 1 Axes>"
      ]
     },
     "metadata": {
      "needs_background": "light"
     },
     "output_type": "display_data"
    }
   ],
   "source": [
    "sor(w = 1.5)"
   ]
  },
  {
   "cell_type": "code",
   "execution_count": 119,
   "id": "0cba7f16",
   "metadata": {},
   "outputs": [
    {
     "data": {
      "image/png": "[encoded data removed]",
      "text/plain": [
       "<Figure size 432x288 with 1 Axes>"
      ]
     },
     "metadata": {
      "needs_background": "light"
     },
     "output_type": "display_data"
    }
   ],
   "source": [
    "sor(w = 1.8)"
   ]
  },
  {
   "cell_type": "code",
   "execution_count": 120,
   "id": "ea2dd6c0",
   "metadata": {},
   "outputs": [
    {
     "data": {
      "image/png": "[encoded data removed]",
      "text/plain": [
       "<Figure size 432x288 with 1 Axes>"
      ]
     },
     "metadata": {
      "needs_background": "light"
     },
     "output_type": "display_data"
    }
   ],
   "source": [
    "sor(w = 2)"
   ]
  },
  {
   "cell_type": "code",
   "execution_count": 121,
   "id": "f3b67fb9",
   "metadata": {},
   "outputs": [
    {
     "data": {
      "image/png": "[encoded data removed]",
      "text/plain": [
       "<Figure size 432x288 with 1 Axes>"
      ]
     },
     "metadata": {
      "needs_background": "light"
     },
     "output_type": "display_data"
    }
   ],
   "source": [
    "sor(w = 3)"
   ]
  },
  {
   "cell_type": "code",
   "execution_count": null,
   "id": "3445ad71",
   "metadata": {},
   "outputs": [],
   "source": []
  }
 ],
 "metadata": {
  "kernelspec": {
   "display_name": "Python 3 (ipykernel)",
   "language": "python",
   "name": "python3"
  },
  "language_info": {
   "codemirror_mode": {
    "name": "ipython",
    "version": 3
   },
   "file_extension": ".py",
   "mimetype": "text/x-python",
   "name": "python",
   "nbconvert_exporter": "python",
   "pygments_lexer": "ipython3",
   "version": "3.10.2"
  }
 },
 "nbformat": 4,
 "nbformat_minor": 5
}
