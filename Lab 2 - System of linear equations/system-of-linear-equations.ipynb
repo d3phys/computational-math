{
 "cells": [
  {
   "cell_type": "markdown",
   "id": "7cb2f1bd",
   "metadata": {},
   "source": [
    "# Решение СЛАУ"
   ]
  },
  {
   "cell_type": "code",
   "execution_count": 1,
   "id": "bf231947",
   "metadata": {},
   "outputs": [],
   "source": [
    "import numpy as np\n",
    "from numpy import *\n",
    "import matplotlib.pyplot as plt\n",
    "from math import *\n",
    "import sympy"
   ]
  },
  {
   "cell_type": "markdown",
   "id": "553a72ed",
   "metadata": {},
   "source": [
    "## Входные данные\n",
    "\n",
    "\n",
    "<div>\n",
    "<img src=\"system.png\" width=\"600\"/>\n",
    "</div>"
   ]
  },
  {
   "cell_type": "code",
   "execution_count": 258,
   "id": "1e8731f4",
   "metadata": {},
   "outputs": [],
   "source": [
    "# It's not fast... But universal :)\n",
    "\n",
    "def cell(i, j):\n",
    "    if i == j:\n",
    "        return 10\n",
    "    elif j > (i + 1):\n",
    "        return 0\n",
    "    else:\n",
    "        return 1 / (i + 1)\n",
    "    \n",
    "def fv(i):\n",
    "    return i + 1\n",
    "\n",
    "n = 4  "
   ]
  },
  {
   "cell_type": "code",
   "execution_count": 259,
   "id": "47bbdc34",
   "metadata": {
    "scrolled": false
   },
   "outputs": [
    {
     "data": {
      "text/plain": [
       "array([[10.        ,  1.        ,  0.        ,  0.        ],\n",
       "       [ 0.5       , 10.        ,  0.5       ,  0.        ],\n",
       "       [ 0.33333333,  0.33333333, 10.        ,  0.33333333],\n",
       "       [ 0.25      ,  0.25      ,  0.25      , 10.        ]])"
      ]
     },
     "execution_count": 259,
     "metadata": {},
     "output_type": "execute_result"
    }
   ],
   "source": [
    "matrix = np.fromfunction(np.vectorize(cell, otypes=[float]), (n, n), dtype=float)\n",
    "matrix"
   ]
  },
  {
   "cell_type": "code",
   "execution_count": 260,
   "id": "932afd22",
   "metadata": {
    "scrolled": false
   },
   "outputs": [
    {
     "data": {
      "text/plain": [
       "array([1., 2., 3., 4.])"
      ]
     },
     "execution_count": 260,
     "metadata": {},
     "output_type": "execute_result"
    }
   ],
   "source": [
    "f = np.fromfunction(np.vectorize(fv, otypes=[float]), (n,), dtype=float)\n",
    "f"
   ]
  },
  {
   "cell_type": "markdown",
   "id": "d3824be9",
   "metadata": {},
   "source": [
    "### Определим норму и $\\varepsilon$ для прямых методов"
   ]
  },
  {
   "cell_type": "code",
   "execution_count": 244,
   "id": "57fd2b04",
   "metadata": {},
   "outputs": [],
   "source": [
    "epsilon = 1e-6\n",
    "\n",
    "def norm(x):\n",
    "    return np.max(abs(x))"
   ]
  },
  {
   "cell_type": "markdown",
   "id": "a7fa418c",
   "metadata": {},
   "source": [
    "### Метод Гаусса с выбором главного элемента"
   ]
  },
  {
   "cell_type": "code",
   "execution_count": 251,
   "id": "733ecfcf",
   "metadata": {},
   "outputs": [],
   "source": [
    "def gauss(matrix, f):\n",
    "\n",
    "    # Соберем всё в одну матрицу M = [A|f]\n",
    "    M = np.hstack((matrix, f.reshape(-1, 1)))   \n",
    "\n",
    "    # Прямой ход\n",
    "    for i in range(len(matrix)):\n",
    "\n",
    "        # Главный элемент отправляется на соответствующую строку\n",
    "        pivot = np.argmax(np.abs(matrix[:,i]))\n",
    "        M[[i, pivot]] = M[[pivot, i]] \n",
    "\n",
    "        div = M[i][i]\n",
    "\n",
    "        # \"Нормируем\" строку\n",
    "        row = M[i]\n",
    "        row /= div\n",
    "\n",
    "        # Зануляем всю колонку под нами\n",
    "        for down in M[i + 1:]:\n",
    "            down -= down[i] * row\n",
    "\n",
    "    # Обратный ход\n",
    "    for i in range(len(matrix) - 1, 0, -1):\n",
    "        row = M[i]\n",
    "        for up in reversed(M[:i]):\n",
    "            up -= up[i] * row\n",
    "\n",
    "    # Получена матрица вида M = [E|x]. Вытаскиваем x\n",
    "    return M[:,-1]"
   ]
  },
  {
   "cell_type": "code",
   "execution_count": 252,
   "id": "261f0ebb",
   "metadata": {
    "scrolled": false
   },
   "outputs": [],
   "source": [
    "x = gauss(matrix, f)\n",
    "\n",
    "diff = np.matmul(matrix, x.T) - f\n",
    "assert norm(diff) < epsilon"
   ]
  },
  {
   "cell_type": "markdown",
   "id": "86e8476a",
   "metadata": {},
   "source": [
    "### LU-разложение"
   ]
  },
  {
   "cell_type": "code",
   "execution_count": 336,
   "id": "c6a8e8cc",
   "metadata": {},
   "outputs": [
    {
     "data": {
      "text/plain": [
       "array([[0., 0., 0., 0.],\n",
       "       [0., 0., 0., 0.],\n",
       "       [0., 0., 0., 0.],\n",
       "       [0., 0., 0., 0.]])"
      ]
     },
     "execution_count": 336,
     "metadata": {},
     "output_type": "execute_result"
    }
   ],
   "source": [
    "def lu(A):\n",
    "    U = A.copy()\n",
    "    L = np.eye(n, dtype=np.double)\n",
    "    \n",
    "    for i in range(len(A)):\n",
    "        \n",
    "        # Чистим столбец от диагонали вниз.\n",
    "        # Затем делаем обратное преобразование. Awesome!\n",
    "        factor = U[i+1:, i] / U[i, i]\n",
    "        L[i+1:, i] = factor\n",
    "        U[i+1:] -= factor.reshape(-1, 1) * U[i]\n",
    "        \n",
    "    return L, U\n",
    "\n",
    "\n",
    "L,U = lu(matrix)\n",
    "assert norm(np.matmul(L, U) - matrix) < epsilon\n",
    "np.matmul(L, U) - matrix"
   ]
  },
  {
   "cell_type": "markdown",
   "id": "e4a482da",
   "metadata": {},
   "source": [
    "### Метод Зейделя"
   ]
  },
  {
   "cell_type": "markdown",
   "id": "d3d84df6",
   "metadata": {},
   "source": [
    "### Метод Якоби"
   ]
  },
  {
   "cell_type": "markdown",
   "id": "849afd68",
   "metadata": {},
   "source": [
    "### Метод верхней релаксации"
   ]
  }
 ],
 "metadata": {
  "kernelspec": {
   "display_name": "Python 3 (ipykernel)",
   "language": "python",
   "name": "python3"
  },
  "language_info": {
   "codemirror_mode": {
    "name": "ipython",
    "version": 3
   },
   "file_extension": ".py",
   "mimetype": "text/x-python",
   "name": "python",
   "nbconvert_exporter": "python",
   "pygments_lexer": "ipython3",
   "version": "3.10.2"
  }
 },
 "nbformat": 4,
 "nbformat_minor": 5
}
