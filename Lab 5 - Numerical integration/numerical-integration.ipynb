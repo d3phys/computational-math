{
 "cells": [
  {
   "cell_type": "markdown",
   "id": "7cb2f1bd",
   "metadata": {},
   "source": [
    "# Численное интегрирование"
   ]
  },
  {
   "cell_type": "code",
   "execution_count": 1,
   "id": "bf231947",
   "metadata": {},
   "outputs": [],
   "source": [
    "import numpy as np\n",
    "import pandas as pd\n",
    "import matplotlib.pyplot as plt\n",
    "from math import *"
   ]
  },
  {
   "cell_type": "markdown",
   "id": "7f7011b8",
   "metadata": {},
   "source": [
    "# VII.9.5"
   ]
  },
  {
   "cell_type": "markdown",
   "id": "553a72ed",
   "metadata": {},
   "source": [
    "### Входные данные\n",
    "\n",
    "Функция из пункта а) VII.9.5. Не вводил из таблицы, чтобы можно было поиграть с шагом.\n",
    "\n",
    "$$f(x) = \\frac{\\sin{x}}{x}, \\;\\;x_i = 0, 0.25, ..., 2.0$$"
   ]
  },
  {
   "cell_type": "code",
   "execution_count": 236,
   "id": "ee21d7c0",
   "metadata": {
    "scrolled": true
   },
   "outputs": [
    {
     "data": {
      "text/html": [
       "<div>\n",
       "<style scoped>\n",
       "    .dataframe tbody tr th:only-of-type {\n",
       "        vertical-align: middle;\n",
       "    }\n",
       "\n",
       "    .dataframe tbody tr th {\n",
       "        vertical-align: top;\n",
       "    }\n",
       "\n",
       "    .dataframe thead th {\n",
       "        text-align: right;\n",
       "    }\n",
       "</style>\n",
       "<table border=\"1\" class=\"dataframe\">\n",
       "  <thead>\n",
       "    <tr style=\"text-align: right;\">\n",
       "      <th></th>\n",
       "      <th>f</th>\n",
       "      <th>x</th>\n",
       "    </tr>\n",
       "  </thead>\n",
       "  <tbody>\n",
       "    <tr>\n",
       "      <th>0</th>\n",
       "      <td>1.000000</td>\n",
       "      <td>0.00</td>\n",
       "    </tr>\n",
       "    <tr>\n",
       "      <th>1</th>\n",
       "      <td>0.989616</td>\n",
       "      <td>0.25</td>\n",
       "    </tr>\n",
       "    <tr>\n",
       "      <th>2</th>\n",
       "      <td>0.958851</td>\n",
       "      <td>0.50</td>\n",
       "    </tr>\n",
       "    <tr>\n",
       "      <th>3</th>\n",
       "      <td>0.908852</td>\n",
       "      <td>0.75</td>\n",
       "    </tr>\n",
       "    <tr>\n",
       "      <th>4</th>\n",
       "      <td>0.841471</td>\n",
       "      <td>1.00</td>\n",
       "    </tr>\n",
       "    <tr>\n",
       "      <th>5</th>\n",
       "      <td>0.759188</td>\n",
       "      <td>1.25</td>\n",
       "    </tr>\n",
       "    <tr>\n",
       "      <th>6</th>\n",
       "      <td>0.664997</td>\n",
       "      <td>1.50</td>\n",
       "    </tr>\n",
       "    <tr>\n",
       "      <th>7</th>\n",
       "      <td>0.562278</td>\n",
       "      <td>1.75</td>\n",
       "    </tr>\n",
       "    <tr>\n",
       "      <th>8</th>\n",
       "      <td>0.454649</td>\n",
       "      <td>2.00</td>\n",
       "    </tr>\n",
       "  </tbody>\n",
       "</table>\n",
       "</div>"
      ],
      "text/plain": [
       "          f     x\n",
       "0  1.000000  0.00\n",
       "1  0.989616  0.25\n",
       "2  0.958851  0.50\n",
       "3  0.908852  0.75\n",
       "4  0.841471  1.00\n",
       "5  0.759188  1.25\n",
       "6  0.664997  1.50\n",
       "7  0.562278  1.75\n",
       "8  0.454649  2.00"
      ]
     },
     "execution_count": 236,
     "metadata": {},
     "output_type": "execute_result"
    }
   ],
   "source": [
    "step = 0.25\n",
    "x = np.arange(0, 2 + step, step, dtype=np.float64)\n",
    "\n",
    "import warnings\n",
    "with warnings.catch_warnings():\n",
    "    # Я знаю, что делим на ноль\n",
    "    warnings.simplefilter(\"ignore\")\n",
    "    f = np.sin(x) / x\n",
    "    f[0] = 1\n",
    "\n",
    "pd.DataFrame({'f' : f, 'x' : x})"
   ]
  },
  {
   "cell_type": "code",
   "execution_count": 237,
   "id": "14a79116",
   "metadata": {},
   "outputs": [
    {
     "data": {
      "text/plain": [
       "<matplotlib.collections.PathCollection at 0x177b525d4e0>"
      ]
     },
     "execution_count": 237,
     "metadata": {},
     "output_type": "execute_result"
    },
    {
     "data": {
      "image/png": "[encoded data removed]",
      "text/plain": [
       "<Figure size 432x288 with 1 Axes>"
      ]
     },
     "metadata": {
      "needs_background": "light"
     },
     "output_type": "display_data"
    }
   ],
   "source": [
    "plt.scatter(x, f)"
   ]
  },
  {
   "cell_type": "markdown",
   "id": "ce5df574",
   "metadata": {},
   "source": [
    "### Метод трапеций"
   ]
  },
  {
   "cell_type": "code",
   "execution_count": 238,
   "id": "29aee198",
   "metadata": {},
   "outputs": [
    {
     "data": {
      "text/plain": [
       "1.603143993230099"
      ]
     },
     "execution_count": 238,
     "metadata": {},
     "output_type": "execute_result"
    }
   ],
   "source": [
    "def trapezoidal(x, f):\n",
    "    assert len(x) == len(f), 'Arrays must have the same length'\n",
    "    __I = 0\n",
    "    for i in range(len(x) - 1):\n",
    "        __I = __I + (x[i+1] - x[i]) / 2 * (f[i+1] + f[i])\n",
    "    return __I\n",
    "\n",
    "trapezoidal(x, f)"
   ]
  },
  {
   "cell_type": "markdown",
   "id": "06b0ec62",
   "metadata": {},
   "source": [
    "### Экстраполяция Ричардсона"
   ]
  },
  {
   "cell_type": "code",
   "execution_count": 239,
   "id": "05007bde",
   "metadata": {},
   "outputs": [
    {
     "data": {
      "text/plain": [
       "1.6054181448970055"
      ]
     },
     "execution_count": 239,
     "metadata": {},
     "output_type": "execute_result"
    }
   ],
   "source": [
    "def richardson(x, f, I, p):\n",
    "    assert len(x) == len(f), 'Arrays must have the same length'\n",
    "    return I(x, f) + (I(x, f) - I(x[::2], f[::2])) / (2**p - 1)\n",
    "\n",
    "richardson(x, f, trapezoidal, 2)"
   ]
  },
  {
   "cell_type": "markdown",
   "id": "64a82fb1",
   "metadata": {},
   "source": [
    "### Метод Симпсона"
   ]
  },
  {
   "cell_type": "code",
   "execution_count": 240,
   "id": "aded6ace",
   "metadata": {},
   "outputs": [
    {
     "data": {
      "text/plain": [
       "1.6054181448970055"
      ]
     },
     "execution_count": 240,
     "metadata": {},
     "output_type": "execute_result"
    }
   ],
   "source": [
    "def simpson(x, f):\n",
    "    assert len(x) == len(f), 'Arrays must have the same length'\n",
    "    __I = 0\n",
    "    for i in range(len(x) // 2):\n",
    "        __I = __I + (x[2*i+1] - x[2*i]) / 3 * (f[2*i] + 4*f[2*i+1] + f[2*i+2])\n",
    "    return __I\n",
    "\n",
    "simpson(x, f)"
   ]
  },
  {
   "cell_type": "markdown",
   "id": "c31843c0",
   "metadata": {},
   "source": [
    "### Интегрируем"
   ]
  },
  {
   "cell_type": "code",
   "execution_count": 241,
   "id": "70dbf0b5",
   "metadata": {
    "scrolled": true
   },
   "outputs": [
    {
     "name": "stdout",
     "output_type": "stream",
     "text": [
      "Trapezoidal             : 1.603143993230099\n",
      "Ref. Trapezoidal        : 1.603143993230099\n",
      "Simpson                 : 1.6054181448970055\n",
      "Ref. Simpson            : 1.6054181448970055\n",
      "Richardson (Trapezoidal): 1.6054181448970055\n",
      "Richardson (Simpson)    : 1.6054128920811792\n",
      "Wolfram                 : 1.6054129768026948\n"
     ]
    }
   ],
   "source": [
    "from scipy import integrate\n",
    "print(f\"Trapezoidal             : {trapezoidal(x, f)}\")\n",
    "print(f\"Ref. Trapezoidal        : {np.trapz(x=x, y=f)}\")\n",
    "print(f\"Simpson                 : {simpson(x, f)}\")\n",
    "print(f\"Ref. Simpson            : {integrate.simpson(x=x, y=f)}\")\n",
    "print(f\"Richardson (Trapezoidal): {richardson(x, f, trapezoidal, 2)}\")\n",
    "print(f\"Richardson (Simpson)    : {richardson(x, f, simpson, 4)}\")\n",
    "print(f\"Wolfram                 : {1.6054129768026948485767201481985889408486}\")"
   ]
  },
  {
   "cell_type": "markdown",
   "id": "e97aa292",
   "metadata": {},
   "source": [
    "# VII.9.13."
   ]
  },
  {
   "cell_type": "markdown",
   "id": "5dae84d3",
   "metadata": {},
   "source": [
    "### Входные данные\n",
    "Пункт а) VII.9.13"
   ]
  },
  {
   "cell_type": "code",
   "execution_count": 242,
   "id": "227cb091",
   "metadata": {},
   "outputs": [
    {
     "data": {
      "text/html": [
       "<div>\n",
       "<style scoped>\n",
       "    .dataframe tbody tr th:only-of-type {\n",
       "        vertical-align: middle;\n",
       "    }\n",
       "\n",
       "    .dataframe tbody tr th {\n",
       "        vertical-align: top;\n",
       "    }\n",
       "\n",
       "    .dataframe thead th {\n",
       "        text-align: right;\n",
       "    }\n",
       "</style>\n",
       "<table border=\"1\" class=\"dataframe\">\n",
       "  <thead>\n",
       "    <tr style=\"text-align: right;\">\n",
       "      <th></th>\n",
       "      <th>f</th>\n",
       "      <th>x</th>\n",
       "    </tr>\n",
       "  </thead>\n",
       "  <tbody>\n",
       "    <tr>\n",
       "      <th>0</th>\n",
       "      <td>1.000000</td>\n",
       "      <td>0.00</td>\n",
       "    </tr>\n",
       "    <tr>\n",
       "      <th>1</th>\n",
       "      <td>0.989616</td>\n",
       "      <td>0.25</td>\n",
       "    </tr>\n",
       "    <tr>\n",
       "      <th>2</th>\n",
       "      <td>0.958851</td>\n",
       "      <td>0.50</td>\n",
       "    </tr>\n",
       "    <tr>\n",
       "      <th>3</th>\n",
       "      <td>0.908852</td>\n",
       "      <td>0.75</td>\n",
       "    </tr>\n",
       "    <tr>\n",
       "      <th>4</th>\n",
       "      <td>0.841471</td>\n",
       "      <td>1.00</td>\n",
       "    </tr>\n",
       "    <tr>\n",
       "      <th>5</th>\n",
       "      <td>0.759188</td>\n",
       "      <td>1.25</td>\n",
       "    </tr>\n",
       "    <tr>\n",
       "      <th>6</th>\n",
       "      <td>0.664997</td>\n",
       "      <td>1.50</td>\n",
       "    </tr>\n",
       "    <tr>\n",
       "      <th>7</th>\n",
       "      <td>0.562278</td>\n",
       "      <td>1.75</td>\n",
       "    </tr>\n",
       "    <tr>\n",
       "      <th>8</th>\n",
       "      <td>0.454649</td>\n",
       "      <td>2.00</td>\n",
       "    </tr>\n",
       "  </tbody>\n",
       "</table>\n",
       "</div>"
      ],
      "text/plain": [
       "          f     x\n",
       "0  1.000000  0.00\n",
       "1  0.989616  0.25\n",
       "2  0.958851  0.50\n",
       "3  0.908852  0.75\n",
       "4  0.841471  1.00\n",
       "5  0.759188  1.25\n",
       "6  0.664997  1.50\n",
       "7  0.562278  1.75\n",
       "8  0.454649  2.00"
      ]
     },
     "execution_count": 242,
     "metadata": {},
     "output_type": "execute_result"
    }
   ],
   "source": [
    "x_i = np.array([0,       1,       2,       3,       4      ], dtype=np.float64)\n",
    "f_i = np.array([0.00000, 0.50000, 0.86603, 1.00000, 0.86603], dtype=np.float64)\n",
    "k = 50\n",
    "\n",
    "pd.DataFrame({'f' : f, 'x' : x})"
   ]
  },
  {
   "cell_type": "markdown",
   "id": "f863092c",
   "metadata": {},
   "source": [
    "### Сплайн интерполяция\n",
    "В основном код взят из предыдущей лабы. Но заменены граничные условия.\n",
    "\n",
    "`см. Lab 4 - Interpolation/interpolation.ipynb`"
   ]
  },
  {
   "cell_type": "markdown",
   "id": "a04aa3e0",
   "metadata": {},
   "source": [
    "#### Метод трехдиагональной прогонки"
   ]
  },
  {
   "cell_type": "code",
   "execution_count": 243,
   "id": "a3b61066",
   "metadata": {},
   "outputs": [],
   "source": [
    "#\n",
    "# Tridiagonal matrix algorithm\n",
    "# See: https://en.wikipedia.org/wiki/Tridiagonal_matrix_algorithm\n",
    "#\n",
    "# [b c 0     ... 0][x0]     [d0]\n",
    "# [a b c 0   ... 0][x1]     [d1]\n",
    "# [0 a b c 0 ... 0][x2]   = [d2]\n",
    "# [      ...      ][...]    [...]\n",
    "# [0     ... 0 a b][xn-1]   [dn-1]\n",
    "#\n",
    "def tridiagonal(a, b, c, d):\n",
    "    assert len(a) + 1 == len(b) == len(c) + 1 == len(d), 'Arrays lengths mismatch'\n",
    "     \n",
    "    __a = np.array(a, dtype = np.float64)\n",
    "    __b = np.array(b, dtype = np.float64)\n",
    "    __c = np.array(c, dtype = np.float64)\n",
    "    __d = np.array(d, dtype = np.float64)\n",
    "    \n",
    "    for i in range(1, len(__d)):\n",
    "        __w = __a[i - 1] / __b[i - 1]\n",
    "        __b[i] = __b[i] - __w * __c[i - 1]\n",
    "        __d[i] = __d[i] - __w * __d[i - 1]\n",
    "\n",
    "    __x = np.empty(len(__d), dtype = np.float64)\n",
    "    __x[-1] = __d[-1] / __b[-1]\n",
    "    for i in range(len(__d) - 2, -1, -1):\n",
    "        __x[i] = (__d[i] - __c[i] * __x[i + 1]) / __b[i]\n",
    "\n",
    "    # Test solution\n",
    "    __test_matrix = np.diag(a, -1) + np.diag(b, 0) + np.diag(c, 1)\n",
    "    assert np.max(abs((np.matmul(__test_matrix, __x.T) - d))) < 1e-6, 'Tridiagonal method failed'\n",
    "        \n",
    "    return __x"
   ]
  },
  {
   "cell_type": "code",
   "execution_count": 244,
   "id": "85f71999",
   "metadata": {},
   "outputs": [],
   "source": [
    "def divided_diff(i, x, f):\n",
    "    assert len(i) >= 1, 'Index array must not be empty'\n",
    "    assert len(x) == len(f) == len(i), 'Arrays lengths mismatch'\n",
    "    if len(i) == 1:\n",
    "        return f[0]\n",
    "    # Обобщим разность для одинаковых узлов\n",
    "    if x[-1] == x[0]:\n",
    "        return 0\n",
    "    \n",
    "    return (divided_diff(i[1:], x[1:], f[1:]) - divided_diff(i[:-1], x[:-1], f[:-1])) / (x[-1] - x[0])\n",
    "\n",
    "#\n",
    "# Cubic Spline interpolation\n",
    "# See: https://en.wikiversity.org/wiki/Cubic_Spline_Interpolation\n",
    "#\n",
    "class Spline:\n",
    "    def __init__(self, x, f):\n",
    "        assert len(x) == len(f), 'Arrays lengths mismatch'\n",
    "        \n",
    "        self.x = x\n",
    "        self.f = f\n",
    "        \n",
    "        __diag = np.full(len(self.x), 2)\n",
    "        __mu = np.empty(len(self.x) - 1)\n",
    "        __mu.fill(0)\n",
    "        for i in range(0, len(self.x) - 2):\n",
    "            __mu[i] = (self.x[i+1] - self.x[i])/(self.x[i+2] - self.x[i])\n",
    "        __mu[-1] = 0 # Boundary conditions\n",
    "\n",
    "        __lambda = np.empty(len(self.x) - 1)\n",
    "        __lambda.fill(0)\n",
    "        __lambda[1:] = 1 - __mu[:-1]\n",
    "        __lambda[0] = 0 # Boundary conditions\n",
    "        \n",
    "        __d = np.empty(len(self.x))\n",
    "        for i in range(0, len(self.x)):\n",
    "            jj = (max(0, i - 1), i, min(len(self.x) - 1, i + 1))\n",
    "            __d[i] = 6 * divided_diff(jj, np.take(self.x, jj), np.take(self.f, jj))\n",
    "        \n",
    "        # WARNING! Boundary conditions were changed!\n",
    "        __d[0] = __d[-1] = 0 # Simple Boundary conditions\n",
    "        \n",
    "        self.M = tridiagonal(__mu, __diag, __lambda, __d)\n",
    "        \n",
    "    def __call__(self, x_arr):      \n",
    "        __res = np.empty(len(x_arr))\n",
    "        for j, x in enumerate(x_arr):\n",
    "            i = np.argmax(self.x > x)\n",
    "            hi = (self.x[i] - self.x[i-1])\n",
    "            __res[j] = self.M[i-1] * (self.x[i] - x)**3 / (6 * hi) \\\n",
    "                       + self.M[i] * (x - self.x[i-1])**3 / (6 * hi) \\\n",
    "                       + (self.f[i-1] - self.M[i-1] * hi**2 / 6) * (self.x[i] - x) / hi \\\n",
    "                       + (self.f[i] - self.M[i] * hi**2 / 6) * (x - self.x[i-1]) / hi\n",
    "        return __res"
   ]
  },
  {
   "cell_type": "markdown",
   "id": "5f37c3f0",
   "metadata": {},
   "source": [
    "### Интерполяция входных данных"
   ]
  },
  {
   "cell_type": "code",
   "execution_count": 245,
   "id": "1aa80f30",
   "metadata": {
    "scrolled": true
   },
   "outputs": [
    {
     "data": {
      "text/plain": [
       "<matplotlib.collections.PathCollection at 0x177b529ab90>"
      ]
     },
     "execution_count": 245,
     "metadata": {},
     "output_type": "execute_result"
    },
    {
     "data": {
      "image/png": "[encoded data removed]",
      "text/plain": [
       "<Figure size 432x288 with 1 Axes>"
      ]
     },
     "metadata": {
      "needs_background": "light"
     },
     "output_type": "display_data"
    }
   ],
   "source": [
    "interp = Spline(x_i, f_i)\n",
    "t = np.linspace(min(x_i), max(x_i), 1001)\n",
    "plt.plot(t, interp(t))\n",
    "plt.scatter(x_i, f_i)"
   ]
  },
  {
   "cell_type": "markdown",
   "id": "7a60d9f8",
   "metadata": {},
   "source": [
    "### Интегрируем"
   ]
  },
  {
   "cell_type": "code",
   "execution_count": 246,
   "id": "db876add",
   "metadata": {},
   "outputs": [
    {
     "name": "stdout",
     "output_type": "stream",
     "text": [
      "Trapezoidal             : -0.00834310288956949\n",
      "Ref. Trapezoidal        : -0.008343102889569486\n",
      "Simpson                 : -0.008371550261538808\n",
      "Ref. Simpson            : -0.008371550261538786\n",
      "Richardson (Trapezoidal): -0.008371550261538784\n",
      "Richardson (Simpson)    : -0.008371471880800346\n"
     ]
    },
    {
     "data": {
      "image/png": "[encoded data removed]",
      "text/plain": [
       "<Figure size 432x288 with 1 Axes>"
      ]
     },
     "metadata": {
      "needs_background": "light"
     },
     "output_type": "display_data"
    }
   ],
   "source": [
    "x = t\n",
    "f = np.sin(k * x) * interp(x)\n",
    "\n",
    "plt.plot(x, f)\n",
    "plt.grid()\n",
    "\n",
    "from scipy import integrate\n",
    "print(f\"Trapezoidal             : {trapezoidal(x, f)}\")\n",
    "print(f\"Ref. Trapezoidal        : {np.trapz(x=x, y=f)}\")\n",
    "print(f\"Simpson                 : {simpson(x, f)}\")\n",
    "print(f\"Ref. Simpson            : {integrate.simpson(x=x, y=f)}\")\n",
    "print(f\"Richardson (Trapezoidal): {richardson(x, f, trapezoidal, 2)}\")\n",
    "print(f\"Richardson (Simpson)    : {richardson(x, f, simpson, 4)}\")"
   ]
  }
 ],
 "metadata": {
  "kernelspec": {
   "display_name": "Python 3 (ipykernel)",
   "language": "python",
   "name": "python3"
  },
  "language_info": {
   "codemirror_mode": {
    "name": "ipython",
    "version": 3
   },
   "file_extension": ".py",
   "mimetype": "text/x-python",
   "name": "python",
   "nbconvert_exporter": "python",
   "pygments_lexer": "ipython3",
   "version": "3.10.2"
  }
 },
 "nbformat": 4,
 "nbformat_minor": 5
}
