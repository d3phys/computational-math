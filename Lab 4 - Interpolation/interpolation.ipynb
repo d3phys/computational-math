{
 "cells": [
  {
   "cell_type": "markdown",
   "id": "7cb2f1bd",
   "metadata": {},
   "source": [
    "# Интерполяция"
   ]
  },
  {
   "cell_type": "code",
   "execution_count": 1,
   "id": "bf231947",
   "metadata": {},
   "outputs": [],
   "source": [
    "import numpy as np\n",
    "import pandas as pd\n",
    "import matplotlib.pyplot as plt\n",
    "from math import *"
   ]
  },
  {
   "cell_type": "markdown",
   "id": "553a72ed",
   "metadata": {},
   "source": [
    "### Входные данные\n",
    "\n",
    "Население Беларуси\n",
    "https://www.belstat.gov.by/en/"
   ]
  },
  {
   "cell_type": "code",
   "execution_count": 2,
   "id": "c1c4fdc2",
   "metadata": {
    "scrolled": false
   },
   "outputs": [
    {
     "data": {
      "text/html": [
       "<div>\n",
       "<style scoped>\n",
       "    .dataframe tbody tr th:only-of-type {\n",
       "        vertical-align: middle;\n",
       "    }\n",
       "\n",
       "    .dataframe tbody tr th {\n",
       "        vertical-align: top;\n",
       "    }\n",
       "\n",
       "    .dataframe thead th {\n",
       "        text-align: right;\n",
       "    }\n",
       "</style>\n",
       "<table border=\"1\" class=\"dataframe\">\n",
       "  <thead>\n",
       "    <tr style=\"text-align: right;\">\n",
       "      <th></th>\n",
       "      <th>Year</th>\n",
       "      <th>Population</th>\n",
       "    </tr>\n",
       "  </thead>\n",
       "  <tbody>\n",
       "    <tr>\n",
       "      <th>0</th>\n",
       "      <td>1950</td>\n",
       "      <td>7745000</td>\n",
       "    </tr>\n",
       "    <tr>\n",
       "      <th>1</th>\n",
       "      <td>1951</td>\n",
       "      <td>7765000</td>\n",
       "    </tr>\n",
       "    <tr>\n",
       "      <th>2</th>\n",
       "      <td>1952</td>\n",
       "      <td>7721000</td>\n",
       "    </tr>\n",
       "    <tr>\n",
       "      <th>3</th>\n",
       "      <td>1953</td>\n",
       "      <td>7690000</td>\n",
       "    </tr>\n",
       "    <tr>\n",
       "      <th>4</th>\n",
       "      <td>1954</td>\n",
       "      <td>7722000</td>\n",
       "    </tr>\n",
       "    <tr>\n",
       "      <th>...</th>\n",
       "      <td>...</td>\n",
       "      <td>...</td>\n",
       "    </tr>\n",
       "    <tr>\n",
       "      <th>69</th>\n",
       "      <td>2019</td>\n",
       "      <td>9429257</td>\n",
       "    </tr>\n",
       "    <tr>\n",
       "      <th>70</th>\n",
       "      <td>2020</td>\n",
       "      <td>9410259</td>\n",
       "    </tr>\n",
       "    <tr>\n",
       "      <th>71</th>\n",
       "      <td>2021</td>\n",
       "      <td>9349645</td>\n",
       "    </tr>\n",
       "    <tr>\n",
       "      <th>72</th>\n",
       "      <td>2022</td>\n",
       "      <td>9255524</td>\n",
       "    </tr>\n",
       "    <tr>\n",
       "      <th>73</th>\n",
       "      <td>2023</td>\n",
       "      <td>9200617</td>\n",
       "    </tr>\n",
       "  </tbody>\n",
       "</table>\n",
       "<p>74 rows × 2 columns</p>\n",
       "</div>"
      ],
      "text/plain": [
       "    Year Population\n",
       "0   1950    7745000\n",
       "1   1951    7765000\n",
       "2   1952    7721000\n",
       "3   1953    7690000\n",
       "4   1954    7722000\n",
       "..   ...        ...\n",
       "69  2019    9429257\n",
       "70  2020    9410259\n",
       "71  2021    9349645\n",
       "72  2022    9255524\n",
       "73  2023    9200617\n",
       "\n",
       "[74 rows x 2 columns]"
      ]
     },
     "execution_count": 2,
     "metadata": {},
     "output_type": "execute_result"
    }
   ],
   "source": [
    "data = pd.read_excel('population.xlsx')\n",
    "data.replace(',','', regex=True, inplace=True)\n",
    "\n",
    "nodes  = np.array(data['Year'], dtype=np.float64)\n",
    "values = np.array(data['Population'], dtype=np.float64)\n",
    "\n",
    "data"
   ]
  },
  {
   "cell_type": "markdown",
   "id": "af4e92de",
   "metadata": {},
   "source": [
    "### Интерполяционный многочлен в форме Ньютона"
   ]
  },
  {
   "cell_type": "code",
   "execution_count": 3,
   "id": "6c23973d",
   "metadata": {
    "scrolled": false
   },
   "outputs": [],
   "source": [
    "class Newton:\n",
    "    def __init__(self, x, f):\n",
    "        assert len(x) == len(f), 'Arrays lengths mismatch'\n",
    "        \n",
    "        def coeff(i, x, f):\n",
    "            assert len(i) >= 1, 'Index array must not be empty'\n",
    "            if len(i) == 1:\n",
    "                return f[0]\n",
    "            return (coeff(i[1:], x[1:], f[1:]) - coeff(i[:-1], x[:-1], f[:-1])) / (x[-1] - x[0])\n",
    "        \n",
    "        self.values = f\n",
    "        self.nodes  = x\n",
    "        self.coeffs = np.array([coeff(range(i), self.nodes[:i], self.values[:i]) for i in range(1, len(self.nodes) + 1)])\n",
    "        \n",
    "    def __call__(self, x):\n",
    "        res = 0\n",
    "        for i in range(len(self.coeffs) - 1, 0, -1):\n",
    "            res = (res + self.coeffs[i]) * (x - self.nodes[i - 1])\n",
    "        return res + self.coeffs[0]\n",
    "\n"
   ]
  },
  {
   "cell_type": "code",
   "execution_count": 4,
   "id": "23e4bf09",
   "metadata": {},
   "outputs": [
    {
     "data": {
      "text/plain": [
       "<matplotlib.collections.PathCollection at 0x2716135e9b0>"
      ]
     },
     "execution_count": 4,
     "metadata": {},
     "output_type": "execute_result"
    },
    {
     "data": {
      "image/png": "[encoded data removed]",
      "text/plain": [
       "<Figure size 432x288 with 1 Axes>"
      ]
     },
     "metadata": {
      "needs_background": "light"
     },
     "output_type": "display_data"
    }
   ],
   "source": [
    "x = nodes[52:68]\n",
    "f = values[52:68]\n",
    "\n",
    "interp = Newton(x, f)\n",
    "t = np.linspace(min(x), max(x), 100)\n",
    "plt.plot(t, interp(t))\n",
    "\n",
    "plt.scatter(nodes[50:73], values[50:73])"
   ]
  },
  {
   "cell_type": "markdown",
   "id": "e809e314",
   "metadata": {},
   "source": [
    "### Сплайн-аппроксимация"
   ]
  },
  {
   "cell_type": "markdown",
   "id": "f8ce741b",
   "metadata": {},
   "source": [
    "### Метод наименьших квадратов"
   ]
  },
  {
   "cell_type": "code",
   "execution_count": null,
   "id": "2d1ee128",
   "metadata": {},
   "outputs": [],
   "source": []
  }
 ],
 "metadata": {
  "kernelspec": {
   "display_name": "Python 3 (ipykernel)",
   "language": "python",
   "name": "python3"
  },
  "language_info": {
   "codemirror_mode": {
    "name": "ipython",
    "version": 3
   },
   "file_extension": ".py",
   "mimetype": "text/x-python",
   "name": "python",
   "nbconvert_exporter": "python",
   "pygments_lexer": "ipython3",
   "version": "3.10.2"
  }
 },
 "nbformat": 4,
 "nbformat_minor": 5
}
