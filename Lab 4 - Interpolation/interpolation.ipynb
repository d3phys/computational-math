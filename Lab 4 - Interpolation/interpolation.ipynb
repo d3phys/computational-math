{
 "cells": [
  {
   "cell_type": "markdown",
   "id": "7cb2f1bd",
   "metadata": {},
   "source": [
    "# Интерполяция"
   ]
  },
  {
   "cell_type": "code",
   "execution_count": 1,
   "id": "bf231947",
   "metadata": {},
   "outputs": [],
   "source": [
    "import numpy as np\n",
    "import pandas as pd\n",
    "import matplotlib.pyplot as plt\n",
    "from math import *"
   ]
  },
  {
   "cell_type": "markdown",
   "id": "553a72ed",
   "metadata": {},
   "source": [
    "### Входные данные\n",
    "\n",
    "Население Беларуси\n",
    "https://www.belstat.gov.by/en/"
   ]
  },
  {
   "cell_type": "code",
   "execution_count": 2,
   "id": "f5455278",
   "metadata": {
    "scrolled": false
   },
   "outputs": [
    {
     "data": {
      "text/html": [
       "<div>\n",
       "<style scoped>\n",
       "    .dataframe tbody tr th:only-of-type {\n",
       "        vertical-align: middle;\n",
       "    }\n",
       "\n",
       "    .dataframe tbody tr th {\n",
       "        vertical-align: top;\n",
       "    }\n",
       "\n",
       "    .dataframe thead th {\n",
       "        text-align: right;\n",
       "    }\n",
       "</style>\n",
       "<table border=\"1\" class=\"dataframe\">\n",
       "  <thead>\n",
       "    <tr style=\"text-align: right;\">\n",
       "      <th></th>\n",
       "      <th>Year</th>\n",
       "      <th>Population</th>\n",
       "    </tr>\n",
       "  </thead>\n",
       "  <tbody>\n",
       "    <tr>\n",
       "      <th>0</th>\n",
       "      <td>1950</td>\n",
       "      <td>7745000</td>\n",
       "    </tr>\n",
       "    <tr>\n",
       "      <th>1</th>\n",
       "      <td>1951</td>\n",
       "      <td>7765000</td>\n",
       "    </tr>\n",
       "    <tr>\n",
       "      <th>2</th>\n",
       "      <td>1952</td>\n",
       "      <td>7721000</td>\n",
       "    </tr>\n",
       "    <tr>\n",
       "      <th>3</th>\n",
       "      <td>1953</td>\n",
       "      <td>7690000</td>\n",
       "    </tr>\n",
       "    <tr>\n",
       "      <th>4</th>\n",
       "      <td>1954</td>\n",
       "      <td>7722000</td>\n",
       "    </tr>\n",
       "    <tr>\n",
       "      <th>...</th>\n",
       "      <td>...</td>\n",
       "      <td>...</td>\n",
       "    </tr>\n",
       "    <tr>\n",
       "      <th>69</th>\n",
       "      <td>2019</td>\n",
       "      <td>9429257</td>\n",
       "    </tr>\n",
       "    <tr>\n",
       "      <th>70</th>\n",
       "      <td>2020</td>\n",
       "      <td>9410259</td>\n",
       "    </tr>\n",
       "    <tr>\n",
       "      <th>71</th>\n",
       "      <td>2021</td>\n",
       "      <td>9349645</td>\n",
       "    </tr>\n",
       "    <tr>\n",
       "      <th>72</th>\n",
       "      <td>2022</td>\n",
       "      <td>9255524</td>\n",
       "    </tr>\n",
       "    <tr>\n",
       "      <th>73</th>\n",
       "      <td>2023</td>\n",
       "      <td>9200617</td>\n",
       "    </tr>\n",
       "  </tbody>\n",
       "</table>\n",
       "<p>74 rows × 2 columns</p>\n",
       "</div>"
      ],
      "text/plain": [
       "    Year Population\n",
       "0   1950    7745000\n",
       "1   1951    7765000\n",
       "2   1952    7721000\n",
       "3   1953    7690000\n",
       "4   1954    7722000\n",
       "..   ...        ...\n",
       "69  2019    9429257\n",
       "70  2020    9410259\n",
       "71  2021    9349645\n",
       "72  2022    9255524\n",
       "73  2023    9200617\n",
       "\n",
       "[74 rows x 2 columns]"
      ]
     },
     "execution_count": 2,
     "metadata": {},
     "output_type": "execute_result"
    }
   ],
   "source": [
    "data = pd.read_excel('population.xlsx')\n",
    "data.replace(',','', regex=True, inplace=True)\n",
    "\n",
    "nodes  = np.array(data['Year'], dtype=np.float64)\n",
    "values = np.array(data['Population'], dtype=np.float64)\n",
    "\n",
    "data"
   ]
  },
  {
   "cell_type": "markdown",
   "id": "9e3c271d",
   "metadata": {},
   "source": [
    "### Определим норму и $\\varepsilon$"
   ]
  },
  {
   "cell_type": "code",
   "execution_count": 3,
   "id": "380dc8e7",
   "metadata": {},
   "outputs": [],
   "source": [
    "epsilon = 1e-6\n",
    "\n",
    "# \"Кубическая\" халявная норма вектора :)\n",
    "def norm(x):\n",
    "    return np.max(abs(x))"
   ]
  },
  {
   "cell_type": "markdown",
   "id": "e9c5110e",
   "metadata": {},
   "source": [
    "### Интерполяционный многочлен в форме Ньютона"
   ]
  },
  {
   "cell_type": "code",
   "execution_count": 4,
   "id": "6340336e",
   "metadata": {
    "scrolled": false
   },
   "outputs": [],
   "source": [
    "def divided_diff(i, x, f):\n",
    "    assert len(i) >= 1, 'Index array must not be empty'\n",
    "    assert len(x) == len(f) == len(i), 'Arrays lengths mismatch'\n",
    "    if len(i) == 1:\n",
    "        return f[0]\n",
    "    # Обобщим разность для одинаковых узлов\n",
    "    if x[-1] == x[0]:\n",
    "        return 0\n",
    "    \n",
    "    return (divided_diff(i[1:], x[1:], f[1:]) - divided_diff(i[:-1], x[:-1], f[:-1])) / (x[-1] - x[0])\n",
    "\n",
    "class Newton:\n",
    "    def __init__(self, x, f):\n",
    "        assert len(x) == len(f), 'Arrays lengths mismatch'\n",
    "        \n",
    "        self.values = f\n",
    "        self.nodes  = x\n",
    "        self.coeffs = np.array([divided_diff(range(i), self.nodes[:i], self.values[:i]) for i in range(1, len(self.nodes) + 1)])\n",
    "        \n",
    "    def __call__(self, x):\n",
    "        __res = 0\n",
    "        for i in range(len(self.coeffs) - 1, 0, -1):\n",
    "            __res = (__res + self.coeffs[i]) * (x - self.nodes[i - 1])\n",
    "        return __res + self.coeffs[0]\n",
    "\n"
   ]
  },
  {
   "cell_type": "code",
   "execution_count": 26,
   "id": "16652432",
   "metadata": {
    "scrolled": true
   },
   "outputs": [
    {
     "data": {
      "text/plain": [
       "<matplotlib.collections.PathCollection at 0x186142da890>"
      ]
     },
     "execution_count": 26,
     "metadata": {},
     "output_type": "execute_result"
    },
    {
     "data": {
      "image/png": "[encoded data removed]",
      "text/plain": [
       "<Figure size 432x288 with 1 Axes>"
      ]
     },
     "metadata": {
      "needs_background": "light"
     },
     "output_type": "display_data"
    }
   ],
   "source": [
    "x = nodes[52:68]\n",
    "f = values[52:68]\n",
    "\n",
    "interp = Newton(x, f)\n",
    "t = np.linspace(min(x), max(x), 100)\n",
    "plt.plot(t, interp(t))\n",
    "\n",
    "plt.scatter(nodes[50:73], values[50:73])\n",
    "\n",
    "#"
   ]
  },
  {
   "cell_type": "markdown",
   "id": "e0b25e22",
   "metadata": {},
   "source": [
    "### Метод наименьших квадратов"
   ]
  },
  {
   "cell_type": "markdown",
   "id": "1563de1f",
   "metadata": {},
   "source": [
    "### Сплайн-аппроксимация"
   ]
  },
  {
   "cell_type": "markdown",
   "id": "8ab24e69",
   "metadata": {},
   "source": [
    "#### Метод трехдиагональной прогонки"
   ]
  },
  {
   "cell_type": "code",
   "execution_count": 27,
   "id": "ffca8228",
   "metadata": {},
   "outputs": [],
   "source": [
    "#\n",
    "# Tridiagonal matrix algorithm\n",
    "# See: https://en.wikipedia.org/wiki/Tridiagonal_matrix_algorithm\n",
    "#\n",
    "# [b c 0     ... 0][x0]     [d0]\n",
    "# [a b c 0   ... 0][x1]     [d1]\n",
    "# [0 a b c 0 ... 0][x2]   = [d2]\n",
    "# [      ...      ][...]    [...]\n",
    "# [0     ... 0 a b][xn-1]   [dn-1]\n",
    "#\n",
    "def tridiagonal(a, b, c, d):\n",
    "    assert len(a) + 1 == len(b) == len(c) + 1 == len(d), 'Arrays lengths mismatch'\n",
    "     \n",
    "    __a = np.array(a, dtype = np.float64)\n",
    "    __b = np.array(b, dtype = np.float64)\n",
    "    __c = np.array(c, dtype = np.float64)\n",
    "    __d = np.array(d, dtype = np.float64)\n",
    "    \n",
    "    #print(__a, __b, __c, __d)\n",
    "    for i in range(1, len(__d)):\n",
    "        __w = __a[i - 1] / __b[i - 1]\n",
    "        __b[i] = __b[i] - __w * __c[i - 1]\n",
    "        __d[i] = __d[i] - __w * __d[i - 1]\n",
    "\n",
    "    __x = np.empty(len(__d), dtype = np.float64)\n",
    "    __x[-1] = __d[-1] / __b[-1]\n",
    "    for i in range(len(__d) - 2, -1, -1):\n",
    "        __x[i] = (__d[i] - __c[i] * __x[i + 1]) / __b[i]\n",
    "\n",
    "    # Test solution\n",
    "    __test_matrix = np.diag(a, -1) + np.diag(b, 0) + np.diag(c, 1)\n",
    "    assert norm(np.matmul(__test_matrix, __x.T) - d) < epsilon, 'Tridiagonal method failed'\n",
    "        \n",
    "    return __x"
   ]
  },
  {
   "cell_type": "code",
   "execution_count": 28,
   "id": "5893b465",
   "metadata": {},
   "outputs": [],
   "source": [
    "#\n",
    "# Cubic Spline interpolation\n",
    "# See: https://en.wikiversity.org/wiki/Cubic_Spline_Interpolation\n",
    "#\n",
    "class Spline:\n",
    "    def __init__(self, x, f, lambda_0 = 1, mu_n = 1):\n",
    "        assert len(x) == len(f), 'Arrays lengths mismatch'\n",
    "        \n",
    "        self.x = x\n",
    "        self.f = f\n",
    "        \n",
    "        __diag = np.full(len(self.x), 2)\n",
    "        __mu = np.empty(len(self.x) - 1)\n",
    "        __mu.fill(0)\n",
    "        for i in range(0, len(self.x) - 2):\n",
    "            __mu[i] = (self.x[i+1] - self.x[i])/(self.x[i+2] - self.x[i])\n",
    "        __mu[-1] = mu_n # Boundary conditions\n",
    "\n",
    "        __lambda = np.empty(len(self.x) - 1)\n",
    "        __lambda.fill(0)\n",
    "        __lambda[1:] = 1 - __mu[:-1]\n",
    "        __lambda[0] = lambda_0 # Boundary conditions\n",
    "        \n",
    "        __d = np.empty(len(self.x))\n",
    "        for i in range(0, len(self.x)):\n",
    "            jj = (max(0, i - 1), i, min(len(self.x) - 1, i + 1))\n",
    "            __d[i] = 6 * divided_diff(jj, np.take(self.x, jj), np.take(self.f, jj))\n",
    "        \n",
    "        self.M = tridiagonal(__mu, __diag, __lambda, __d)\n",
    "        \n",
    "    def __call__(self, x_arr):\n",
    "        __res = np.empty(len(x_arr))\n",
    "        for j, x in enumerate(x_arr):\n",
    "            i = np.argmax(self.x > x)\n",
    "            hi = (self.x[i] - self.x[i-1])\n",
    "            __res[j] = self.M[i-1] * (self.x[i] - x)**3 / (6 * hi) \\\n",
    "                       + self.M[i] * (x - self.x[i-1])**3 / (6 * hi) \\\n",
    "                       + (self.f[i-1] - self.M[i-1] * hi**2 / 6) * (self.x[i] - x) / hi \\\n",
    "                       + (self.f[i] - self.M[i] * hi**2 / 6) * (x - self.x[i-1]) / hi\n",
    "        return __res"
   ]
  },
  {
   "cell_type": "code",
   "execution_count": 29,
   "id": "5a43f461",
   "metadata": {},
   "outputs": [
    {
     "data": {
      "text/plain": [
       "<matplotlib.collections.PathCollection at 0x1861433d8a0>"
      ]
     },
     "execution_count": 29,
     "metadata": {},
     "output_type": "execute_result"
    },
    {
     "data": {
      "image/png": "[encoded data removed]",
      "text/plain": [
       "<Figure size 432x288 with 1 Axes>"
      ]
     },
     "metadata": {
      "needs_background": "light"
     },
     "output_type": "display_data"
    }
   ],
   "source": [
    "x = nodes[52:68]\n",
    "f = values[52:68]\n",
    "\n",
    "interp = Spline(x, f)\n",
    "t = np.linspace(min(x), max(x), 100)\n",
    "plt.plot(t, interp(t))\n",
    "\n",
    "plt.scatter(nodes[50:73], values[50:73])\n"
   ]
  }
 ],
 "metadata": {
  "kernelspec": {
   "display_name": "Python 3 (ipykernel)",
   "language": "python",
   "name": "python3"
  },
  "language_info": {
   "codemirror_mode": {
    "name": "ipython",
    "version": 3
   },
   "file_extension": ".py",
   "mimetype": "text/x-python",
   "name": "python",
   "nbconvert_exporter": "python",
   "pygments_lexer": "ipython3",
   "version": "3.10.2"
  }
 },
 "nbformat": 4,
 "nbformat_minor": 5
}
